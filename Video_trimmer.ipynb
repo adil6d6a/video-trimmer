{
  "cells": [
    {
      "cell_type": "code",
      "execution_count": null,
      "metadata": {
        "id": "5I0UaoFx1-D-"
      },
      "outputs": [],
      "source": [
        "from google.colab import drive\n",
        "drive.mount('/content/drive')\n"
      ]
    },
    {
      "cell_type": "code",
      "execution_count": null,
      "metadata": {
        "id": "MSHiIFiS2GvS"
      },
      "outputs": [],
      "source": [
        "!pip install moviepy\n",
        "!apt-get install ffmpeg\n"
      ]
    },
    {
      "cell_type": "code",
      "execution_count": null,
      "metadata": {
        "id": "S3hifdCM2HNA"
      },
      "outputs": [],
      "source": [
        "from moviepy.video.io.VideoFileClip import VideoFileClip\n",
        "from moviepy.video.fx.all import crop\n"
      ]
    },
    {
      "cell_type": "code",
      "execution_count": null,
      "metadata": {
        "id": "FA6LIrjL2QaI"
      },
      "outputs": [],
      "source": [
        "start_time = 0\n",
        "end_time = 0/content/drive/MyDrive/sample_video.mp4\n",
        "video_path = \"\"\n",
        "video = VideoFileClip(video_path)\n",
        "trimmed_video = video.subclip(start_time, end_time)\n",
        "trimmed_video.write_videofile(\"/content/drive/MyDrive/sample.mp4\")  \n"
      ]
    },
    {
      "cell_type": "code",
      "execution_count": null,
      "metadata": {
        "id": "x3Jkbq6wadzh"
      },
      "outputs": [],
      "source": [
        "%cd /content/drive/MyDrive"
      ]
    },
    {
      "cell_type": "code",
      "execution_count": null,
      "metadata": {
        "colab": {
          "background_save": true
        },
        "id": "JdcSk5Bvuaek"
      },
      "outputs": [],
      "source": [
        "!wget ''"
      ]
    },
    {
      "cell_type": "code",
      "source": [],
      "metadata": {
        "id": "ql7T2h8RF4jd"
      },
      "execution_count": null,
      "outputs": []
    },
    {
      "cell_type": "code",
      "source": [
        "!pip install moviepy\n",
        "from moviepy.editor import *\n"
      ],
      "metadata": {
        "id": "nubfBvE6FrCW"
      },
      "execution_count": null,
      "outputs": []
    },
    {
      "cell_type": "code",
      "source": [
        "video_path = \"/content/drive/MyDrive/Rowdy.Rathore.(2012).-HEVC-10Bits.BRRip-1080p.D.D-5.1.E-Subs.[Telly].mkv\"\n",
        "video = VideoFileClip(video_path)\n",
        "video1 = video.subclip(2016, 2020)\n",
        "video2 = video.subclip(2065, 2070)\n",
        "final_video = concatenate_videoclips([video1, video2])\n",
        "final_video.write_videofile(\"/content/drive/MyDrive/trimeplusmerge.mp4\")"
      ],
      "metadata": {
        "id": "phBj_HgDF8ol"
      },
      "execution_count": null,
      "outputs": []
    },
    {
      "cell_type": "code",
      "source": [
        "import cv2\n",
        "video_path = \"/content/drive/MyDrive/.mp4\"\n",
        "cap = cv2.VideoCapture(video_path)\n",
        "\n",
        "count = 0\n",
        "frames_folder = \"/content/drive/MyDrive/ease access/sam dancing\"\n",
        "\n",
        "while True:\n",
        "    success, frame = cap.read()\n",
        "    if success:\n",
        "        frame_path = f\"{frames_folder}/frame{count}.jpg\"\n",
        "        cv2.imwrite(frame_path, frame)\n",
        "        count += 1\n",
        "    else:\n",
        "        break\n",
        "\n",
        "cap.release()\n"
      ],
      "metadata": {
        "id": "7W89W_BKaMbS"
      },
      "execution_count": null,
      "outputs": []
    }
  ],
  "metadata": {
    "accelerator": "TPU",
    "colab": {
      "provenance": []
    },
    "gpuClass": "standard",
    "kernelspec": {
      "display_name": "Python 3",
      "name": "python3"
    },
    "language_info": {
      "name": "python"
    }
  },
  "nbformat": 4,
  "nbformat_minor": 0
}